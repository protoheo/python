{
 "cells": [
  {
   "cell_type": "code",
   "execution_count": 1,
   "metadata": {},
   "outputs": [],
   "source": [
    "import matplotlib as mpl\n",
    "import matplotlib.pyplot as plt\n",
    "import matplotlib.font_manager as fm"
   ]
  },
  {
   "cell_type": "code",
   "execution_count": 3,
   "metadata": {},
   "outputs": [
    {
     "name": "stdout",
     "output_type": "stream",
     "text": [
      "버전:  2.0.2\n",
      "설치 위치:  C:\\ProgramData\\Anaconda3\\lib\\site-packages\\matplotlib\\__init__.py\n",
      "설정 위치:  C:\\Users\\HDEC\\.matplotlib\n",
      "캐시 위치:  C:\\Users\\HDEC\\.matplotlib\n",
      "설정 파일 위치:  C:\\ProgramData\\Anaconda3\\lib\\site-packages\\matplotlib\\mpl-data\\matplotlibrc\n"
     ]
    }
   ],
   "source": [
    "print ('버전: ', mpl.__version__)\n",
    "print ('설치 위치: ', mpl.__file__)\n",
    "print ('설정 위치: ', mpl.get_configdir())\n",
    "print ('캐시 위치: ', mpl.get_cachedir())\n",
    "print ('설정 파일 위치: ', mpl.matplotlib_fname())"
   ]
  },
  {
   "cell_type": "code",
   "execution_count": 4,
   "metadata": {},
   "outputs": [
    {
     "name": "stdout",
     "output_type": "stream",
     "text": [
      "761\n"
     ]
    }
   ],
   "source": [
    "font_list = fm.findSystemFonts(fontpaths=None, fontext='ttf')\n",
    "\n",
    "# ttf 폰트 전체개수\n",
    "print(len(font_list))"
   ]
  },
  {
   "cell_type": "code",
   "execution_count": 8,
   "metadata": {},
   "outputs": [
    {
     "data": {
      "text/plain": [
       "[('MJemokGothic', 'C:\\\\windows\\\\Fonts\\\\MK.TTF'),\n",
       " ('Showcard Gothic', 'c:\\\\windows\\\\fonts\\\\showg.ttf'),\n",
       " ('HYGothic-Extra', 'C:\\\\windows\\\\Fonts\\\\H2GTRE.TTF'),\n",
       " ('Century Gothic', 'C:\\\\windows\\\\Fonts\\\\GOTHICBI.TTF'),\n",
       " ('Franklin Gothic Medium', 'c:\\\\windows\\\\fonts\\\\framdit.ttf'),\n",
       " ('Century Gothic', 'c:\\\\windows\\\\fonts\\\\gothic.ttf'),\n",
       " ('MJemokGothic', 'c:\\\\windows\\\\fonts\\\\mk.ttf'),\n",
       " ('Century Gothic', 'c:\\\\windows\\\\fonts\\\\gothicb.ttf'),\n",
       " ('Century Gothic', 'c:\\\\windows\\\\fonts\\\\gothicbi.ttf'),\n",
       " ('HYGothic-Extra', 'c:\\\\windows\\\\fonts\\\\h2gtre.ttf'),\n",
       " ('Century Gothic', 'C:\\\\windows\\\\Fonts\\\\GOTHICI.TTF'),\n",
       " ('Malgun Gothic', 'c:\\\\windows\\\\fonts\\\\malgunbd.ttf'),\n",
       " ('Century Gothic', 'C:\\\\windows\\\\Fonts\\\\GOTHICB.TTF'),\n",
       " ('Franklin Gothic Medium', 'c:\\\\windows\\\\fonts\\\\framd.ttf'),\n",
       " ('HYGothic-Medium', 'C:\\\\windows\\\\Fonts\\\\H2GTRM.TTF'),\n",
       " ('Showcard Gothic', 'C:\\\\windows\\\\Fonts\\\\SHOWG.TTF'),\n",
       " ('Century Gothic', 'c:\\\\windows\\\\fonts\\\\gothici.ttf'),\n",
       " ('Malgun Gothic', 'C:\\\\windows\\\\Fonts\\\\malgun.ttf'),\n",
       " ('HYGothic-Medium', 'c:\\\\windows\\\\fonts\\\\h2gtrm.ttf'),\n",
       " ('Century Gothic', 'C:\\\\windows\\\\Fonts\\\\GOTHIC.TTF')]"
      ]
     },
     "execution_count": 8,
     "metadata": {},
     "output_type": "execute_result"
    }
   ],
   "source": [
    "[(f.name, f.fname) for f in fm.fontManager.ttflist if 'Gothic' in f.name]"
   ]
  },
  {
   "cell_type": "code",
   "execution_count": 12,
   "metadata": {},
   "outputs": [
    {
     "data": {
      "text/plain": [
       "1"
      ]
     },
     "execution_count": 12,
     "metadata": {},
     "output_type": "execute_result"
    }
   ],
   "source": [
    "   cnt = cnt + 1\n",
    "    idx = int((cnt-1) / 4 + 1)\n",
    "    idy = int((cnt-1) % 4 + 1)"
   ]
  },
  {
   "cell_type": "code",
   "execution_count": null,
   "metadata": {
    "collapsed": true
   },
   "outputs": [],
   "source": []
  }
 ],
 "metadata": {
  "kernelspec": {
   "display_name": "Python 3",
   "language": "python",
   "name": "python3"
  },
  "language_info": {
   "codemirror_mode": {
    "name": "ipython",
    "version": 3
   },
   "file_extension": ".py",
   "mimetype": "text/x-python",
   "name": "python",
   "nbconvert_exporter": "python",
   "pygments_lexer": "ipython3",
   "version": "3.6.2"
  }
 },
 "nbformat": 4,
 "nbformat_minor": 2
}
